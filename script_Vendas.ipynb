{
 "cells": [
  {
   "cell_type": "code",
   "execution_count": null,
   "metadata": {},
   "outputs": [],
   "source": [
    "# Definindo a paleta de cores\n",
    "AZUL1, AZUL2, AZUL3, AZUL4, AZUL5 = '#03045e', '#0077b6', \"#00b4d8\", '#90e0ef', '#CDDBF3'\n",
    "CINZA1, CINZA2, CINZA3, CINZA4, CINZA5 = '#212529', '#495057', '#adb5bd', '#dee2e6', '#f8f9fa'\n",
    "VERMELHO1, LARANJA1, AMARELO1, VERDE1, VERDE2 = '#e76f51', '#f4a261',\t'#e9c46a', '#4c956c', '#2a9d8f'\n"
   ]
  },
  {
   "cell_type": "code",
   "execution_count": null,
   "metadata": {},
   "outputs": [],
   "source": [
    "# Importanod bibliotecas\n",
    "import pandas as pd \n",
    "import numpy as np\n",
    "from matplotlib import pyplot as plt\n",
    "import os\n",
    "import seaborn as sns\n",
    "import plotly.express as px\n",
    "from matplotlib import transforms\n",
    "import locale \n"
   ]
  },
  {
   "cell_type": "code",
   "execution_count": null,
   "metadata": {},
   "outputs": [],
   "source": [
    "# Setando o local para a formatação dos valores para dinheiro\n",
    "locale.setlocale(locale.LC_ALL, 'pt_BR.UTF-8')"
   ]
  },
  {
   "cell_type": "code",
   "execution_count": null,
   "metadata": {},
   "outputs": [],
   "source": [
    "# Importando base vendas\n",
    "file_relatorio_vendas = 'relatorio_vendas.csv'\n",
    "df_vendas = pd.read_csv(file_relatorio_vendas)\n",
    "display(df_vendas)\n",
    "df_vendas.info()"
   ]
  },
  {
   "cell_type": "code",
   "execution_count": null,
   "metadata": {},
   "outputs": [],
   "source": [
    "# formatando as colunas de data para datetime \n",
    "df_vendas['data_envio'] = pd.to_datetime(df_vendas['data_envio'], format=\"%Y-%m-%d\")\n",
    "df_vendas['data_pedido'] = pd.to_datetime(df_vendas['data_pedido'], format='%Y-%m-%d')\n",
    "df_vendas = df_vendas.sort_values(by=['data_pedido','data_envio'], ascending=False)\n",
    "display(df_vendas)\n",
    "df_vendas.info()"
   ]
  },
  {
   "cell_type": "code",
   "execution_count": null,
   "metadata": {},
   "outputs": [],
   "source": [
    "# criando uma variavel que receba a copia do dataframe de vendas\n",
    "df_vendas_ano = df_vendas.copy()\n",
    "\n",
    "#Pegando somente as colunas de data e vendas\n",
    "df_vendas_ano = df_vendas_ano[['data_pedido', 'vendas']]\n",
    "\n",
    "#Pegando somente o ano da data e atirbuindo a uma coluna ano\n",
    "df_vendas_ano[\"ano\"] = df_vendas_ano.data_pedido.dt.year\n",
    "\n",
    "# Dropando a coluna que nao sera mais usada\n",
    "df_vendas_ano.drop(columns='data_pedido', axis=1, inplace=True)\n",
    "\n",
    "#Agrupando o total das vendas pelo ano \n",
    "df_vendas_ano = df_vendas_ano.groupby(by='ano').sum()\n",
    "\n",
    "#df_vendas_ano['vendas'] = df_vendas_ano['vendas'].map(lambda vendas:locale.currency(vendas, grouping=True))\n",
    "display(df_vendas_ano)\n",
    "df_vendas_ano.info()"
   ]
  },
  {
   "cell_type": "code",
   "execution_count": null,
   "metadata": {},
   "outputs": [],
   "source": [
    "#Criando uma função que gera grafico \n",
    "def grafico_vendas(cores: list=[AZUL2]):\n",
    "    fig, ax = plt.subplots(figsize=(15,5))\n",
    "    sns.set_theme(style='white')\n",
    "    ax = sns.barplot(data=df_vendas_ano, x=df_vendas_ano.index, y='vendas', palette=cores)\n",
    "    ax.set_title('Variação das vendas entre 2016 e 2019', loc='left', fontsize=18, color=CINZA1)\n",
    "    ax.set_xlabel('Anos')\n",
    "    ax.xaxis.set_tick_params(labelsize=14, labelcolor=CINZA2)\n",
    "    sns.despine(left=True, bottom=True)\n",
    "    ax.set_yticklabels([])\n",
    "    fator_divisor = 1000\n",
    "    for i, v in enumerate(df_vendas_ano['vendas']):\n",
    "        #ax.text(v/fator_divisor, i, str(v), fontsize=2, va='center', color=CINZA2)\n",
    "        qtd = f'R${v:,.0f}'.replace(',','.')\n",
    "        offset = 1e5\n",
    "        ax.text(i,v + offset, qtd, color=CINZA2, fontsize=12, ha ='center', va='center')\n",
    "        \n",
    "    \n",
    "    fig.show()\n",
    "\n",
    "    \n",
    "    return ax\n",
    "\n",
    "ax= grafico_vendas()"
   ]
  },
  {
   "cell_type": "code",
   "execution_count": null,
   "metadata": {},
   "outputs": [],
   "source": [
    "# cria um laço para determinar qual cor é colocada na lista a partir da condição\n",
    "cores = []\n",
    "\n",
    "for ano in df_vendas_ano.index:\n",
    "    if df_vendas_ano.loc[ano, 'vendas' ] == df_vendas_ano.vendas.max():\n",
    "        cores.append(AZUL2)\n",
    "    else:\n",
    "        cores.append(AZUL5)\n",
    "        \n",
    "grafico_vendas(cores)"
   ]
  },
  {
   "cell_type": "code",
   "execution_count": null,
   "metadata": {},
   "outputs": [],
   "source": [
    "# Dataframe com tipo de produto e lucro\n",
    "top_lucro = df_vendas.copy()\n",
    "top_lucro =top_lucro[['tipo_produto','lucro']]\n",
    "top_lucro = top_lucro.groupby(by='tipo_produto').sum().sort_values(by='lucro',ascending=False)\n",
    "top_7 = top_lucro[:7]\n",
    "display(top_7)\n",
    "\n",
    "#top_lucro= top_lucro['lucro'].map(lambda produto : locale.currency(produto, grouping=True))\n",
    "#top_lucro = pd.DataFrame(top_lucro)"
   ]
  },
  {
   "cell_type": "code",
   "execution_count": null,
   "metadata": {},
   "outputs": [],
   "source": [
    "## Gerando a função para criar o gráfico de barras\n",
    "\n",
    "def grafico_top_7():\n",
    "  \n",
    "# Área do gráfico e tema da visualização\n",
    "  fig, ax = plt.subplots(figsize=(10,4))\n",
    "  fig.subplots_adjust(right=0.7)\n",
    "  sns.set_theme(style=\"white\")\n",
    "\n",
    "# Definindo as cores do gráfico\n",
    "  cores = [AZUL2, AZUL2, AZUL2, VERDE1, VERDE1, CINZA2, AMARELO1]\n",
    "\n",
    "# Gerando o gráfico de barras\n",
    "  ax = sns.barplot(data = top_7, x=\"lucro\", y = top_7.index, palette = cores)\n",
    "  \n",
    "# Personalizando o gráfico\n",
    "  ax.set_title('Top 7 produtos com maior lucro no catálogo (2016-2019)\\n', fontsize=18, color=CINZA1, loc='left')\n",
    "  ax.set_xlabel('')\n",
    "  ax.set_ylabel('')\n",
    "  ax.set_xticklabels([])\n",
    "  ax.yaxis.set_tick_params(labelsize=10, labelcolor = CINZA2)\n",
    "  sns.despine(left = True, bottom = True)\n",
    "\n",
    "  # Escrevendo os valores de cada barra no gráfico\n",
    "  for i, valor in enumerate(top_7['lucro']):\n",
    "      qtd = f'R$ {valor:,.0f}'.replace(',','.')\n",
    "      offset = 1e3  # offset de 1.000\n",
    "      ax.text(valor - offset, i, qtd, color= CINZA5, fontsize=10, fontweight='bold', ha='right', va='center')\n",
    "      \n",
    "  return ax\n",
    "\n",
    "ax = grafico_top_7()\n"
   ]
  },
  {
   "cell_type": "code",
   "execution_count": null,
   "metadata": {},
   "outputs": [],
   "source": [
    "\n",
    "def texto_colorido(x, y, texto, cores, esp=20, ax=None, **kw):\n",
    "    cores = list(reversed(cores))\n",
    "    t = ax.transData\n",
    "    canvas = ax.figure.canvas\n",
    "\n",
    "    for i, linha in enumerate(reversed(texto.split('\\n'))):\n",
    "        frases = linha.split('||')\n",
    "        for s, cor in zip(frases, cores[i]):\n",
    "            texto = ax.text(x, y, s, color=cor, transform=t, **kw)\n",
    "            texto.draw(canvas.get_renderer())\n",
    "            ex = texto.get_window_extent()\n",
    "            t = transforms.offset_copy(texto._transform, x=ex.width,\n",
    "                                       units='dots')\n",
    "\n",
    "        t = transforms.offset_copy(ax.transData, x=0, y=(i + 1) * esp, units='dots')\n",
    "\n",
    "## Configurando o gráfico com parâmetros que potencializam a visualização dos dados\n",
    "\n",
    "# Chamando a função do gráfico de barras\n",
    "ax = grafico_top_7()\n",
    "\n",
    "# Anotando uma conclusão no gráfico\n",
    "texto_colorido(\n",
    "    9.2e4, 3.25,    # coordenadas\n",
    "    'Os dados indicam que os 3 produtos que geram\\n'# texto\n",
    "    '$\\\\bf{maior\\ lucro}$|| são do departamento ||$\\\\bf{Automotivo}$.\\n'\n",
    "    '\\n'\n",
    "    'Podemos notar também que o departamento de\\n'\n",
    "    '$\\\\bf{Jardinagem\\ e\\ paisagismo}$|| possui 3 produtos com\\n'\n",
    "    'uma boa margem de lucro, sendo que um deles está\\n'\n",
    "    'abaixo de ||$\\\\bf{50\\ mil\\ reais}$|| no período mencionado.',\n",
    "    \n",
    "    [[CINZA2],# linha 1 # cores\n",
    "     [CINZA1, CINZA2, AZUL2], # linha 2\n",
    "     [CINZA2],# linha 3\n",
    "     [CINZA2],# linha 4\n",
    "     [VERDE1, CINZA2],# linha 5\n",
    "     [CINZA2],# linha 6\n",
    "     [CINZA2, CINZA1, CINZA2]# linha 7\n",
    "    ],\n",
    "    esp=22,\t# espaçamento\n",
    "    ax=ax, # figura onde desenhar o texto\n",
    "    fontsize=10)\n",
    "\n",
    "fig = ax.get_figure()\n"
   ]
  },
  {
   "cell_type": "code",
   "execution_count": null,
   "metadata": {},
   "outputs": [],
   "source": [
    "# Dataframe vendas por ano\n",
    "vendas_ano = df_vendas.copy()\n",
    "vendas_ano = vendas_ano[['lucro', 'data_pedido']]\n",
    "vendas_ano['ano'] = vendas_ano['data_pedido'].dt.year\n",
    "vendas_ano = vendas_ano.drop(columns='data_pedido', axis=1)\n",
    "vendas_ano =  vendas_ano.groupby(by='ano').sum()\n",
    "vendas_ano = vendas_ano.sort_values(by='lucro')\n",
    "display(vendas_ano)"
   ]
  },
  {
   "cell_type": "code",
   "execution_count": null,
   "metadata": {},
   "outputs": [],
   "source": [
    "def gerar_grafico_lucro_ano():\n",
    "    # Area da figura \n",
    "    fig, axs = plt.subplots(figsize=(14,5))\n",
    "    sns.set_theme(style='white')\n",
    "    fig.subplots_adjust(right=0.8) \n",
    "\n",
    "    # Plotando o gráfico\n",
    "    axs = sns.barplot(data=vendas_ano, x='ano', y='lucro', palette=cores)\n",
    "    axs.set_title('Lucro das vendas por ano', loc='left', fontsize=16, color=CINZA1)\n",
    "    axs.set_xlabel('')\n",
    "    axs.set_ylabel('')\n",
    "    axs.set_yticklabels('')\n",
    "    sns.despine(left=True, bottom=True)\n",
    "\n",
    "    for i, v in enumerate(vendas_ano['lucro']):\n",
    "        # Formatando a saida do valor\n",
    "        qtd = f'R${v:,.0f}'.replace(',','.')\n",
    "        offset = 1e4\n",
    "        axs.text(i,v + offset, qtd, color=CINZA1, fontsize=12, ha='center', va='center')    \n",
    "    return \n",
    "gerar_grafico_lucro_ano()"
   ]
  },
  {
   "cell_type": "code",
   "execution_count": null,
   "metadata": {},
   "outputs": [],
   "source": [
    "# Dataframe gerando top10 \n",
    "top_10 = df_vendas.copy()\n",
    "top_10 = top_10[['vendas','data_pedido']]\n",
    "top_10['ano'] = top_10['data_pedido'].dt.year\n",
    "top_10 = top_10.drop(columns='data_pedido')\n",
    "top_10 = top_10.groupby(by='ano').sum()\n",
    "display(top_10)"
   ]
  },
  {
   "cell_type": "code",
   "execution_count": null,
   "metadata": {},
   "outputs": [],
   "source": [
    "def gerar_grafico_top10():\n",
    "    fig, ax = plt.subplots(figsize=(10,4))\n",
    "    sns.set_theme(style=\"white\")\n",
    "    fig.subplots_adjust(right=0.7)\n",
    "\n",
    "    ax = sns.barplot(data=top_10, x=top_10.index, y='vendas', palette=cores)\n",
    "    ax.set_title('Lucro das vendas por ano', loc='left', fontsize=16, color=CINZA1)\n",
    "    ax.set_xlabel('')\n",
    "    ax.set_ylabel('')\n",
    "    ax.set_yticklabels('')\n",
    "    sns.despine(left=True, bottom=True)\n",
    "\n",
    "\n",
    "    for i, v in enumerate(top_10['vendas']):\n",
    "        # Formatando a saida do valor\n",
    "        qtd = f'R${v:,.0f}'.replace(',','.')\n",
    "        offset = 1e5\n",
    "        ax.text(i,v + offset, qtd, color=CINZA1, fontsize=12, ha='center', va='center')    \n",
    "    \n",
    "\n",
    "    ax.text(3.5, 9.5e5,\n",
    "         'O maior lucro registrado foi no ano $\\\\bf{2019}$.\\n'\n",
    "         'Em comparação com 2018, o lucro\\n'\n",
    "         'subiu aproximadamente $\\\\bf{14,04}$%.',\n",
    "         fontsize=10, \n",
    "         linespacing=1.15, \n",
    "         color=CINZA1)\n",
    "\n",
    "    return\n",
    "\n",
    "gerar_grafico_top10()\n"
   ]
  },
  {
   "cell_type": "code",
   "execution_count": null,
   "metadata": {},
   "outputs": [],
   "source": [
    "# Área do gráfico e tema da visualização\n",
    "fig, ax = plt.subplots(figsize=(10,4))\n",
    "fig.subplots_adjust(right=0.7)\n",
    "sns.set_theme(style=\"white\")\n",
    "\n",
    "# Definindo as cores do gráfico: 3 primeiro em azul e restante em cinza \n",
    "cores = [AZUL2 if i < 3 else CINZA3 for i in range(10)]\n",
    "\n",
    "# Gerando o gráfico de barras \n",
    "ax = sns.barplot(data=top_10, x=top_10.index, y='vendas', palette = cores)\n",
    "\n",
    "# Personalizando o gráfico\n",
    "ax.set_title('Top 10 produtos com maiores vendas no catálogo (2016-2019)\\n', fontsize=18, color=CINZA1, loc='left')\n",
    "ax.set_xlabel('')\n",
    "ax.set_ylabel('')\n",
    "ax.set_xticklabels([])\n",
    "ax.yaxis.set_tick_params(labelsize=10, labelcolor = CINZA2)\n",
    "sns.despine(left = True, bottom = True)\n",
    "\n",
    "# Escrevendo os valores de cada barra no gráfico\n",
    "for i, valor in enumerate(top_10['vendas']):\n",
    "    qtd = f'R$ {valor:,.0f}'.replace(',','.')  \n",
    "    offset = 1e7  # offset de 10.000\n",
    "    ax.text(valor - offset, i, qtd, color= CINZA5, fontsize=8, fontweight='bold', ha='right', va='center')\n",
    "\n",
    "\n",
    "# Gerando o texto colorido\n",
    "texto_colorido(\n",
    "    1.05e6, 4,                           # coordenadas\n",
    "    'Os dados indicam que os 3 produtos que || $\\\\bf{mais}$\\n'\n",
    "    'venderam foram:|| $\\\\bf{pneus,ferramentas e vasos}$.\\n'\n",
    "    '\\n'\n",
    "    'Podemos notar no período mencionado também que as\\n'\n",
    "    'ferramentas de jardinagem e materiais de revestimento\\n' \n",
    "    'também possuem uma boa saída.',\n",
    "    [[CINZA2, CINZA1],                # linha 1 # cores\n",
    "     [CINZA2, AZUL2],                 # linha 2\n",
    "     [CINZA2],                        # linha 3\n",
    "     [CINZA2],                        # linha 4\n",
    "     [CINZA2],                        # linha 6\n",
    "     [CINZA2]\n",
    "    ],\n",
    "    esp=22,         # espaçamento\n",
    "    ax=ax,          # figura onde desenhar o texto\n",
    "    fontsize=10)    \n",
    "\n",
    "\n",
    "# Exibindo o gráfico\n",
    "plt.show()\n"
   ]
  },
  {
   "cell_type": "code",
   "execution_count": null,
   "metadata": {},
   "outputs": [],
   "source": [
    "# Vendas por ano e região\n",
    "ano_regiao = df_vendas.copy()\n",
    "ano_regiao = ano_regiao[['data_pedido','vendas', 'regiao']]\n",
    "ano_regiao['ano'] = ano_regiao.data_pedido.dt.year\n",
    "ano_regiao.drop(labels='data_pedido', axis=1, inplace=True)\n",
    "\n",
    "df_ano_regiao = pd.crosstab(index= ano_regiao.ano, columns=ano_regiao.regiao, values=ano_regiao.vendas, aggfunc='sum')\n",
    "df_ano_regiao = df_ano_regiao[['Sudeste', 'Nordeste', 'Centro-Oeste','Norte', 'Sul']]\n",
    "display(df_ano_regiao)\n",
    "\n",
    "\n",
    "# df_ano_regiao = ano_regiao.groupby(by=['ano','regiao']).sum()"
   ]
  },
  {
   "cell_type": "code",
   "execution_count": null,
   "metadata": {},
   "outputs": [],
   "source": [
    "def gera_grafico_ano_regiao():\n",
    "\n",
    "    cores = [AZUL1, AZUL2, AZUL3,AZUL4,CINZA3]\n",
    "    \n",
    "    ax = df_ano_regiao.plot(kind='bar', stacked=True, figsize=(14,8), color=cores)\n",
    "    ax.set_title('Vendas por ano e região', fontsize=30, color=AZUL1, loc='center')\n",
    "    ax.set_xlabel('')\n",
    "    ax.set_ylabel('')\n",
    "    ax.set_yticklabels([])\n",
    "    ax.xaxis.set_tick_params(labelsize='14', labelcolor=CINZA1, rotation=0)\n",
    "    ax.set_frame_on(False)\n",
    "\n",
    "#Removendo todos os ticks possiveis do exio x e y\n",
    "    ax.tick_params(axis='both', which='both', length=0)\n",
    "\n",
    "\n",
    "#Conclusao do grafico\n",
    "\n",
    "    ax.text(3.55, 1e6,'87%',fontweight='bold', fontsize=25, color=AZUL2)\n",
    "    ax.text(3.55, 5.5e5, \n",
    "             \n",
    "             'das vendas nas lojas\\n '\n",
    "             'estão concentradas nas\\n'\n",
    "             'regiões $\\\\bf {Sudeste}$, $\\\\bf{Nordeste}$\\n'\n",
    "             'e $\\\\bf{Centro-Oeste}$ em 2019.',\n",
    "             fontsize=14,\n",
    "             linespacing=1.60,\n",
    "             color=AZUL1\n",
    "             )\n",
    "\n",
    "    return ax\n",
    "ax = gera_grafico_ano_regiao()\n",
    "\n",
    "ax.legend(bbox_to_anchor=(1,1), reverse=True, title='Região',title_fontsize= 12,  fontsize=12 )\n",
    "\n",
    "for container in ax.containers:\n",
    "    labels=[f'R${valor.get_height()/1000:.0f}K'.replace(',','.') for valor in container]\n",
    "    ax.bar_label(container, label_type='center', labels = labels, size=10, color=CINZA5, fontweight='bold')\n",
    "    \n",
    "ax.axvline(x=3.3, ymin=0, ymax=0.83,color= AZUL1, linewidth=1.2)\n"
   ]
  },
  {
   "cell_type": "code",
   "execution_count": null,
   "metadata": {},
   "outputs": [],
   "source": [
    "df_envio = df_vendas.copy()\n",
    "df_envio = df_envio[['modo_envio', 'segmento_cliente']]\n",
    "df_envio_seg = pd.crosstab(index=df_envio.modo_envio, columns=df_envio.segmento_cliente).sort_values('B2B')\n",
    "\n",
    "# NORMALIZE PELO INDEX\n",
    "df_envio_normalizado = pd.crosstab(index=df_envio.modo_envio, columns=df_envio.segmento_cliente, normalize='index').sort_values('B2B')\n",
    "display(df_envio_normalizado)"
   ]
  },
  {
   "cell_type": "code",
   "execution_count": null,
   "metadata": {},
   "outputs": [],
   "source": [
    "# Função para escrita de texto utilizando diferentes cores. Não existe uma \n",
    "# função nativa para isso. (Adaptado de https://github.com/empathy87/storytelling-with-data)\n",
    "from matplotlib import transforms\n",
    "\n",
    "def texto_colorido(x, y, texto, cores, esp=20, ax=None, **kw):\n",
    "    cores = list(reversed(cores))\n",
    "    t = ax.transData\n",
    "    canvas = ax.figure.canvas\n",
    "\n",
    "    for i, linha in enumerate(reversed(texto.split('\\n'))):\n",
    "        frases = linha.split('||')\n",
    "        for s, cor in zip(frases, cores[i]):\n",
    "            texto = ax.text(x, y, s, color=cor, transform=t, **kw)\n",
    "            texto.draw(canvas.get_renderer())\n",
    "            ex = texto.get_window_extent()\n",
    "            t = transforms.offset_copy(texto._transform, x=ex.width, \n",
    "                                       units='dots')\n",
    "\n",
    "        t = transforms.offset_copy(ax.transData, x=0, y=(i + 1) * esp, units='dots')\n"
   ]
  },
  {
   "cell_type": "code",
   "execution_count": null,
   "metadata": {},
   "outputs": [],
   "source": [
    "# Área do gráfico e tema da visualização\n",
    "fig, axs = plt.subplots(1, 2, figsize=(12,6), sharey = True)\n",
    "# Definindo as cores do gráfico\n",
    "cores = [AZUL2, AZUL5]\n",
    "\n",
    "# GRÁFICO 1 - Barras empilhadas\n",
    "axs[0].barh(df_envio_seg.index, df_envio_seg[\"B2B\"], color = cores[0])\n",
    "axs[0].barh(df_envio_seg.index, df_envio_seg[\"B2B\"], color = cores[0])\n",
    "axs[0].barh(df_envio_seg.index, df_envio_seg[\"B2C\"], color = cores[0])\n",
    "axs[0].barh(df_envio_seg.index, df_envio_seg[\"B2C\"], left = df_envio_seg[\"B2B\"], color = cores[1])\n",
    "axs[0].barh(df_envio_seg.index, df_envio_seg[\"B2B\"], color = cores[0])\n",
    "axs[0].barh(df_envio_seg.index, df_envio_seg[\"B2C\"], left = df_envio_seg[\"B2B\"], color = cores[1])\n",
    "axs[0].set_title('Em valores absolutos\\n', color = CINZA2)\n",
    "axs[0].set_xlabel('')\n",
    "axs[0].set_ylabel('')\n",
    "axs[0].set_xticklabels([])\n",
    "axs[0].yaxis.set_tick_params(labelsize=14, color = CINZA2)\n",
    "axs[0].set_frame_on(False)\n",
    "\n",
    "# remover todos os ticks do eixo x e y\n",
    "axs[0].tick_params(axis='both', which='both', length=0)\n",
    "\n",
    "texto_colorido(0, 3.5, '$\\\\bf{B2B}$ | || $\\\\bf{B2C}$', cores = [cores], ax=axs[0], fontsize=12) # legenda\n",
    "\n",
    "\n",
    "# GRÁFICO 2 - Barras empilhadas 100 %\n",
    "axs[1].barh(df_envio_normalizado.index, df_envio_normalizado[\"B2B\"], color = cores[0])\n",
    "axs[1].barh(df_envio_normalizado.index, df_envio_normalizado[\"B2C\"], left = df_envio_normalizado[\"B2B\"], color = cores[1])\n",
    "axs[1].set_title('Em porcentagem\\n', color = CINZA2)\n",
    "axs[1].set_xlabel('100%', color = CINZA2, size = 14, loc='right')\n",
    "axs[1].set_ylabel('')\n",
    "axs[1].set_xticklabels([])\n",
    "axs[1].set_frame_on(False)\n",
    "\n",
    "# remover todos os ticks do eixo x e y\n",
    "axs[1].tick_params(axis='both', which='both', length=0)\n",
    "\n",
    "texto_colorido(0, 3.5, '$\\\\bf{B2B}$ | || $\\\\bf{B2C}$', cores = [cores], ax=axs[1], fontsize=12) # legenda\n",
    "\n",
    "\n",
    "# Título dos gráficos\n",
    "fig.suptitle(\"Modo de envio mais utilizado pelos clientes B2B/B2C (2016-2019)\\n\", \n",
    "             fontsize=18, color=CINZA1, ha = 'right', x = 0.95, y = 1.05)\n",
    "\n",
    "\n",
    "# Valores das barras\n",
    "for container in axs[0].containers:\n",
    "    labels = [str(valor.get_width()) if valor.get_width() > 300 else '' for valor in container]\n",
    "    axs[0].bar_label(container, label_type='center', labels = labels, size = 12, color = CINZA5, fontweight='bold')\n",
    "\n",
    "for container in axs[1].containers:\n",
    "    labels = [f'{valor.get_width()*100:.1f}%' for valor in container]\n",
    "    axs[1].bar_label(container, label_type='center', labels = labels, size = 12, color = CINZA5, fontweight='bold')\n",
    "\n",
    "fig.show()\n",
    "\n"
   ]
  },
  {
   "cell_type": "code",
   "execution_count": null,
   "metadata": {},
   "outputs": [],
   "source": [
    "# Dataframe por regiaoe trimestre\n",
    "df_sp = df_vendas.copy()\n",
    "df_sp = df_sp.query('estado == \"São Paulo\"')[['data_pedido','vendas']].sort_values(by='data_pedido')\n",
    "\n",
    "#agrupando por trimestre \n",
    "df_sp.set_index('data_pedido', inplace=True)\n",
    "df_sp = df_sp.resample('Q').agg('sum')\n",
    "df_sp['vendas'] = round(df_sp['vendas']/ 1e3, 2)\n",
    "df_sp = df_sp.reset_index()\n",
    "\n",
    "display(df_sp)"
   ]
  },
  {
   "cell_type": "code",
   "execution_count": null,
   "metadata": {},
   "outputs": [],
   "source": [
    "import matplotlib.dates as mdates"
   ]
  },
  {
   "cell_type": "code",
   "execution_count": null,
   "metadata": {},
   "outputs": [],
   "source": [
    "def gerar_grafico_sp_tri():\n",
    "    \n",
    "    fig, ax = plt.subplots(figsize=(11,4))\n",
    "    \n",
    "    #grafico de linha\n",
    "    pontos_a_marcar = [True if mes ==12 else False for mes in df_sp['data_pedido'].dt.month]\n",
    "    \n",
    "    ax.plot(df_sp['data_pedido'], df_sp['vendas'], lw=4, color= AZUL1, marker='o', markersize=10, markerfacecolor=AZUL4, markevery = pontos_a_marcar)\n",
    "\n",
    "    \n",
    "    \n",
    "    ax.set_title('Gráfico de vendas trimestral do estdo de São Paulo', fontsize=18, color=CINZA1, loc='left', fontweight='bold')\n",
    "    ax.text(0.5, 0.95,'De 2016 ate 22019 (em milhares de reais)', transform = ax.transAxes, color =CINZA2, fontsize=14, ha='right', va='center')\n",
    "    ax.set_xlabel('')\n",
    "    ax.set_ylabel('')\n",
    "    ax.set_yticklabels([])\n",
    "    ax.set_frame_on(False)\n",
    "    ax.xaxis.set_tick_params(labelsize=14, labelcolor=CINZA1)\n",
    "    ax.tick_params(axis='both',which='both',length=0)\n",
    "    ax.grid(axis='y',linestyle='--')\n",
    "\n",
    "    \n",
    "    ax.xaxis.set_major_locator(mdates.MonthLocator(interval = 3))\n",
    "    ax.xaxis.set_major_formatter(mdates.DateFormatter('%b'))\n",
    "    x_labels = ['mar', 'jun', 'set','dez'] * 4\n",
    "    ax.set_xticks(df_sp.data_pedido)\n",
    "    ax.set_xticklabels(x_labels, ha='center', ) \n",
    "\n",
    "    texto = [16*\" \" + str(i) + 16*\" \" for i in range(2016, 2020)]\n",
    "    ax.text(ax.get_xbound()[0] + 35, - 80, f'|{texto[0]}|{texto[1]}|{texto[2]}|{texto[3]}|', fontsize=14, color=CINZA2)\n",
    "\n",
    "    \n",
    "    \n",
    "    ano = 0\n",
    "    for i in range(3, len(df_sp[\"vendas\"]), 4):\n",
    "        ax.text(x = ax.get_xticks()[i], y = df_sp[\"vendas\"][i] + 20, s = f\"R$ {df_sp['vendas'][i]} mil\", color = AZUL2, weight = \"bold\", fontsize = 10)\n",
    "        ax.text(x = ax.get_xticks()[i] + 160, y = df_sp[\"vendas\"][i] + 20, s = f\"(4º Tri {2016 + ano})\", color = CINZA2, weight = \"bold\", fontsize = 10)\n",
    "        ano +=1\n",
    "    \n",
    "    plt.ylim(0,400)\n",
    "    return ax\n",
    "\n",
    "ax = gerar_grafico_sp_tri()"
   ]
  },
  {
   "cell_type": "code",
   "execution_count": null,
   "metadata": {},
   "outputs": [],
   "source": [
    "#criando um df de regiao que contenha uma deep cpoy do df vendas\n",
    "df_regiao = df_vendas.copy()\n",
    "df_regiao = df_regiao[['regiao','data_pedido','vendas']] #recebe apenas essas colunas selecionadas\n",
    "\n",
    "#realizando o cross tab pois teremos duas variaveis nesse grafico vendass por trimestre e regiao\n",
    "df_regiao = pd.crosstab(index=df_regiao.data_pedido, columns=df_regiao.regiao, values=df_regiao.vendas, aggfunc='sum')\n",
    "\n",
    "#organizando o df regiao em ordem de maior para o menor\n",
    "df_regiao = df_regiao[[\"Sudeste\", \"Nordeste\", \"Centro-Oeste\", \"Norte\", \"Sul\"]]\n",
    "\n",
    "#Realizando a agreagação utilizando o resample por trimestre e somando\n",
    "df_regiao = df_regiao.resample('Q').agg('sum')\n",
    "\n",
    "#formatando o df para ter valores das vendas apenas com duas casas decimais e dividindo o valor por mil     \n",
    "df_regiao= round(df_regiao/ 1e3, 2)\n",
    "\n",
    "display(df_regiao)"
   ]
  },
  {
   "cell_type": "code",
   "execution_count": null,
   "metadata": {},
   "outputs": [],
   "source": [
    "import plotly.express as    px"
   ]
  },
  {
   "cell_type": "code",
   "execution_count": 133,
   "metadata": {},
   "outputs": [
    {
     "data": {
      "application/vnd.plotly.v1+json": {
       "config": {
        "plotlyServerURL": "https://plot.ly"
       },
       "data": [
        {
         "hovertemplate": "<b>Período<b> %{x} br <b>Faturamento<b> %{y}",
         "legendgroup": "Sudeste",
         "line": {
          "color": "#0077b6",
          "dash": "solid"
         },
         "marker": {
          "symbol": "circle"
         },
         "mode": "markers+lines",
         "name": "Sudeste",
         "orientation": "v",
         "showlegend": true,
         "type": "scatter",
         "x": [
          "2016-03-31T00:00:00",
          "2016-06-30T00:00:00",
          "2016-09-30T00:00:00",
          "2016-12-31T00:00:00",
          "2017-03-31T00:00:00",
          "2017-06-30T00:00:00",
          "2017-09-30T00:00:00",
          "2017-12-31T00:00:00",
          "2018-03-31T00:00:00",
          "2018-06-30T00:00:00",
          "2018-09-30T00:00:00",
          "2018-12-31T00:00:00",
          "2019-03-31T00:00:00",
          "2019-06-30T00:00:00",
          "2019-09-30T00:00:00",
          "2019-12-31T00:00:00"
         ],
         "xaxis": "x",
         "y": [
          70.18,
          122.72,
          226.43,
          320.27,
          127.89,
          161.54,
          206.29,
          307.28,
          120.56,
          180.87,
          252.41,
          480,
          170.82,
          178.62,
          305,
          492.32
         ],
         "yaxis": "y"
        },
        {
         "hovertemplate": "<b>Período<b> %{x} br <b>Faturamento<b> %{y}",
         "legendgroup": "Nordeste",
         "line": {
          "color": "#e76f51",
          "dash": "solid"
         },
         "marker": {
          "symbol": "circle"
         },
         "mode": "markers+lines",
         "name": "Nordeste",
         "orientation": "v",
         "showlegend": true,
         "type": "scatter",
         "x": [
          "2016-03-31T00:00:00",
          "2016-06-30T00:00:00",
          "2016-09-30T00:00:00",
          "2016-12-31T00:00:00",
          "2017-03-31T00:00:00",
          "2017-06-30T00:00:00",
          "2017-09-30T00:00:00",
          "2017-12-31T00:00:00",
          "2018-03-31T00:00:00",
          "2018-06-30T00:00:00",
          "2018-09-30T00:00:00",
          "2018-12-31T00:00:00",
          "2019-03-31T00:00:00",
          "2019-06-30T00:00:00",
          "2019-09-30T00:00:00",
          "2019-12-31T00:00:00"
         ],
         "xaxis": "x",
         "y": [
          41.73,
          87.41,
          158.12,
          91.27,
          61.58,
          54.93,
          91.6,
          112.69,
          92.4,
          93.71,
          93.14,
          122.12,
          121.06,
          101.92,
          159.66,
          218.1
         ],
         "yaxis": "y"
        },
        {
         "hovertemplate": "<b>Período<b> %{x} br <b>Faturamento<b> %{y}",
         "legendgroup": "Centro-Oeste",
         "line": {
          "color": "#e9c46a",
          "dash": "solid"
         },
         "marker": {
          "symbol": "circle"
         },
         "mode": "markers+lines",
         "name": "Centro-Oeste",
         "orientation": "v",
         "showlegend": true,
         "type": "scatter",
         "x": [
          "2016-03-31T00:00:00",
          "2016-06-30T00:00:00",
          "2016-09-30T00:00:00",
          "2016-12-31T00:00:00",
          "2017-03-31T00:00:00",
          "2017-06-30T00:00:00",
          "2017-09-30T00:00:00",
          "2017-12-31T00:00:00",
          "2018-03-31T00:00:00",
          "2018-06-30T00:00:00",
          "2018-09-30T00:00:00",
          "2018-12-31T00:00:00",
          "2019-03-31T00:00:00",
          "2019-06-30T00:00:00",
          "2019-09-30T00:00:00",
          "2019-12-31T00:00:00"
         ],
         "xaxis": "x",
         "y": [
          16.8,
          30.83,
          39.61,
          34.41,
          5.9,
          16.96,
          48.82,
          77.54,
          29.3,
          77.91,
          51.03,
          49.83,
          40.37,
          30.02,
          87.09,
          100.3
         ],
         "yaxis": "y"
        },
        {
         "hovertemplate": "<b>Período<b> %{x} br <b>Faturamento<b> %{y}",
         "legendgroup": "Norte",
         "line": {
          "color": "#4c956c",
          "dash": "solid"
         },
         "marker": {
          "symbol": "circle"
         },
         "mode": "markers+lines",
         "name": "Norte",
         "orientation": "v",
         "showlegend": true,
         "type": "scatter",
         "x": [
          "2016-03-31T00:00:00",
          "2016-06-30T00:00:00",
          "2016-09-30T00:00:00",
          "2016-12-31T00:00:00",
          "2017-03-31T00:00:00",
          "2017-06-30T00:00:00",
          "2017-09-30T00:00:00",
          "2017-12-31T00:00:00",
          "2018-03-31T00:00:00",
          "2018-06-30T00:00:00",
          "2018-09-30T00:00:00",
          "2018-12-31T00:00:00",
          "2019-03-31T00:00:00",
          "2019-06-30T00:00:00",
          "2019-09-30T00:00:00",
          "2019-12-31T00:00:00"
         ],
         "xaxis": "x",
         "y": [
          9.31,
          24.68,
          21.94,
          45.65,
          35.25,
          13.35,
          48.71,
          26.86,
          39.03,
          31.35,
          16.16,
          22.17,
          25.11,
          57.4,
          51.54,
          36.26
         ],
         "yaxis": "y"
        },
        {
         "hovertemplate": "<b>Período<b> %{x} br <b>Faturamento<b> %{y}",
         "legendgroup": "Sul",
         "line": {
          "color": "#adb5bd",
          "dash": "solid"
         },
         "marker": {
          "symbol": "circle"
         },
         "mode": "markers+lines",
         "name": "Sul",
         "orientation": "v",
         "showlegend": true,
         "type": "scatter",
         "x": [
          "2016-03-31T00:00:00",
          "2016-06-30T00:00:00",
          "2016-09-30T00:00:00",
          "2016-12-31T00:00:00",
          "2017-03-31T00:00:00",
          "2017-06-30T00:00:00",
          "2017-09-30T00:00:00",
          "2017-12-31T00:00:00",
          "2018-03-31T00:00:00",
          "2018-06-30T00:00:00",
          "2018-09-30T00:00:00",
          "2018-12-31T00:00:00",
          "2019-03-31T00:00:00",
          "2019-06-30T00:00:00",
          "2019-09-30T00:00:00",
          "2019-12-31T00:00:00"
         ],
         "xaxis": "x",
         "y": [
          1.51,
          10.62,
          11.97,
          37.19,
          4.75,
          21.23,
          21.68,
          44.34,
          6.95,
          46.78,
          26.43,
          52.02,
          26.18,
          34.39,
          37.99,
          30.85
         ],
         "yaxis": "y"
        }
       ],
       "layout": {
        "font": {
         "color": "#495057",
         "family": "DejaVu Sans",
         "size": 15
        },
        "height": 600,
        "hovermode": "x unified",
        "legend": {
         "title": {
          "text": "Região"
         },
         "tracegroupgap": 0
        },
        "margin": {
         "t": 60
        },
        "plot_bgcolor": "#f8f9fa",
        "template": {
         "data": {
          "bar": [
           {
            "error_x": {
             "color": "#2a3f5f"
            },
            "error_y": {
             "color": "#2a3f5f"
            },
            "marker": {
             "line": {
              "color": "#E5ECF6",
              "width": 0.5
             },
             "pattern": {
              "fillmode": "overlay",
              "size": 10,
              "solidity": 0.2
             }
            },
            "type": "bar"
           }
          ],
          "barpolar": [
           {
            "marker": {
             "line": {
              "color": "#E5ECF6",
              "width": 0.5
             },
             "pattern": {
              "fillmode": "overlay",
              "size": 10,
              "solidity": 0.2
             }
            },
            "type": "barpolar"
           }
          ],
          "carpet": [
           {
            "aaxis": {
             "endlinecolor": "#2a3f5f",
             "gridcolor": "white",
             "linecolor": "white",
             "minorgridcolor": "white",
             "startlinecolor": "#2a3f5f"
            },
            "baxis": {
             "endlinecolor": "#2a3f5f",
             "gridcolor": "white",
             "linecolor": "white",
             "minorgridcolor": "white",
             "startlinecolor": "#2a3f5f"
            },
            "type": "carpet"
           }
          ],
          "choropleth": [
           {
            "colorbar": {
             "outlinewidth": 0,
             "ticks": ""
            },
            "type": "choropleth"
           }
          ],
          "contour": [
           {
            "colorbar": {
             "outlinewidth": 0,
             "ticks": ""
            },
            "colorscale": [
             [
              0,
              "#0d0887"
             ],
             [
              0.1111111111111111,
              "#46039f"
             ],
             [
              0.2222222222222222,
              "#7201a8"
             ],
             [
              0.3333333333333333,
              "#9c179e"
             ],
             [
              0.4444444444444444,
              "#bd3786"
             ],
             [
              0.5555555555555556,
              "#d8576b"
             ],
             [
              0.6666666666666666,
              "#ed7953"
             ],
             [
              0.7777777777777778,
              "#fb9f3a"
             ],
             [
              0.8888888888888888,
              "#fdca26"
             ],
             [
              1,
              "#f0f921"
             ]
            ],
            "type": "contour"
           }
          ],
          "contourcarpet": [
           {
            "colorbar": {
             "outlinewidth": 0,
             "ticks": ""
            },
            "type": "contourcarpet"
           }
          ],
          "heatmap": [
           {
            "colorbar": {
             "outlinewidth": 0,
             "ticks": ""
            },
            "colorscale": [
             [
              0,
              "#0d0887"
             ],
             [
              0.1111111111111111,
              "#46039f"
             ],
             [
              0.2222222222222222,
              "#7201a8"
             ],
             [
              0.3333333333333333,
              "#9c179e"
             ],
             [
              0.4444444444444444,
              "#bd3786"
             ],
             [
              0.5555555555555556,
              "#d8576b"
             ],
             [
              0.6666666666666666,
              "#ed7953"
             ],
             [
              0.7777777777777778,
              "#fb9f3a"
             ],
             [
              0.8888888888888888,
              "#fdca26"
             ],
             [
              1,
              "#f0f921"
             ]
            ],
            "type": "heatmap"
           }
          ],
          "heatmapgl": [
           {
            "colorbar": {
             "outlinewidth": 0,
             "ticks": ""
            },
            "colorscale": [
             [
              0,
              "#0d0887"
             ],
             [
              0.1111111111111111,
              "#46039f"
             ],
             [
              0.2222222222222222,
              "#7201a8"
             ],
             [
              0.3333333333333333,
              "#9c179e"
             ],
             [
              0.4444444444444444,
              "#bd3786"
             ],
             [
              0.5555555555555556,
              "#d8576b"
             ],
             [
              0.6666666666666666,
              "#ed7953"
             ],
             [
              0.7777777777777778,
              "#fb9f3a"
             ],
             [
              0.8888888888888888,
              "#fdca26"
             ],
             [
              1,
              "#f0f921"
             ]
            ],
            "type": "heatmapgl"
           }
          ],
          "histogram": [
           {
            "marker": {
             "pattern": {
              "fillmode": "overlay",
              "size": 10,
              "solidity": 0.2
             }
            },
            "type": "histogram"
           }
          ],
          "histogram2d": [
           {
            "colorbar": {
             "outlinewidth": 0,
             "ticks": ""
            },
            "colorscale": [
             [
              0,
              "#0d0887"
             ],
             [
              0.1111111111111111,
              "#46039f"
             ],
             [
              0.2222222222222222,
              "#7201a8"
             ],
             [
              0.3333333333333333,
              "#9c179e"
             ],
             [
              0.4444444444444444,
              "#bd3786"
             ],
             [
              0.5555555555555556,
              "#d8576b"
             ],
             [
              0.6666666666666666,
              "#ed7953"
             ],
             [
              0.7777777777777778,
              "#fb9f3a"
             ],
             [
              0.8888888888888888,
              "#fdca26"
             ],
             [
              1,
              "#f0f921"
             ]
            ],
            "type": "histogram2d"
           }
          ],
          "histogram2dcontour": [
           {
            "colorbar": {
             "outlinewidth": 0,
             "ticks": ""
            },
            "colorscale": [
             [
              0,
              "#0d0887"
             ],
             [
              0.1111111111111111,
              "#46039f"
             ],
             [
              0.2222222222222222,
              "#7201a8"
             ],
             [
              0.3333333333333333,
              "#9c179e"
             ],
             [
              0.4444444444444444,
              "#bd3786"
             ],
             [
              0.5555555555555556,
              "#d8576b"
             ],
             [
              0.6666666666666666,
              "#ed7953"
             ],
             [
              0.7777777777777778,
              "#fb9f3a"
             ],
             [
              0.8888888888888888,
              "#fdca26"
             ],
             [
              1,
              "#f0f921"
             ]
            ],
            "type": "histogram2dcontour"
           }
          ],
          "mesh3d": [
           {
            "colorbar": {
             "outlinewidth": 0,
             "ticks": ""
            },
            "type": "mesh3d"
           }
          ],
          "parcoords": [
           {
            "line": {
             "colorbar": {
              "outlinewidth": 0,
              "ticks": ""
             }
            },
            "type": "parcoords"
           }
          ],
          "pie": [
           {
            "automargin": true,
            "type": "pie"
           }
          ],
          "scatter": [
           {
            "fillpattern": {
             "fillmode": "overlay",
             "size": 10,
             "solidity": 0.2
            },
            "type": "scatter"
           }
          ],
          "scatter3d": [
           {
            "line": {
             "colorbar": {
              "outlinewidth": 0,
              "ticks": ""
             }
            },
            "marker": {
             "colorbar": {
              "outlinewidth": 0,
              "ticks": ""
             }
            },
            "type": "scatter3d"
           }
          ],
          "scattercarpet": [
           {
            "marker": {
             "colorbar": {
              "outlinewidth": 0,
              "ticks": ""
             }
            },
            "type": "scattercarpet"
           }
          ],
          "scattergeo": [
           {
            "marker": {
             "colorbar": {
              "outlinewidth": 0,
              "ticks": ""
             }
            },
            "type": "scattergeo"
           }
          ],
          "scattergl": [
           {
            "marker": {
             "colorbar": {
              "outlinewidth": 0,
              "ticks": ""
             }
            },
            "type": "scattergl"
           }
          ],
          "scattermapbox": [
           {
            "marker": {
             "colorbar": {
              "outlinewidth": 0,
              "ticks": ""
             }
            },
            "type": "scattermapbox"
           }
          ],
          "scatterpolar": [
           {
            "marker": {
             "colorbar": {
              "outlinewidth": 0,
              "ticks": ""
             }
            },
            "type": "scatterpolar"
           }
          ],
          "scatterpolargl": [
           {
            "marker": {
             "colorbar": {
              "outlinewidth": 0,
              "ticks": ""
             }
            },
            "type": "scatterpolargl"
           }
          ],
          "scatterternary": [
           {
            "marker": {
             "colorbar": {
              "outlinewidth": 0,
              "ticks": ""
             }
            },
            "type": "scatterternary"
           }
          ],
          "surface": [
           {
            "colorbar": {
             "outlinewidth": 0,
             "ticks": ""
            },
            "colorscale": [
             [
              0,
              "#0d0887"
             ],
             [
              0.1111111111111111,
              "#46039f"
             ],
             [
              0.2222222222222222,
              "#7201a8"
             ],
             [
              0.3333333333333333,
              "#9c179e"
             ],
             [
              0.4444444444444444,
              "#bd3786"
             ],
             [
              0.5555555555555556,
              "#d8576b"
             ],
             [
              0.6666666666666666,
              "#ed7953"
             ],
             [
              0.7777777777777778,
              "#fb9f3a"
             ],
             [
              0.8888888888888888,
              "#fdca26"
             ],
             [
              1,
              "#f0f921"
             ]
            ],
            "type": "surface"
           }
          ],
          "table": [
           {
            "cells": {
             "fill": {
              "color": "#EBF0F8"
             },
             "line": {
              "color": "white"
             }
            },
            "header": {
             "fill": {
              "color": "#C8D4E3"
             },
             "line": {
              "color": "white"
             }
            },
            "type": "table"
           }
          ]
         },
         "layout": {
          "annotationdefaults": {
           "arrowcolor": "#2a3f5f",
           "arrowhead": 0,
           "arrowwidth": 1
          },
          "autotypenumbers": "strict",
          "coloraxis": {
           "colorbar": {
            "outlinewidth": 0,
            "ticks": ""
           }
          },
          "colorscale": {
           "diverging": [
            [
             0,
             "#8e0152"
            ],
            [
             0.1,
             "#c51b7d"
            ],
            [
             0.2,
             "#de77ae"
            ],
            [
             0.3,
             "#f1b6da"
            ],
            [
             0.4,
             "#fde0ef"
            ],
            [
             0.5,
             "#f7f7f7"
            ],
            [
             0.6,
             "#e6f5d0"
            ],
            [
             0.7,
             "#b8e186"
            ],
            [
             0.8,
             "#7fbc41"
            ],
            [
             0.9,
             "#4d9221"
            ],
            [
             1,
             "#276419"
            ]
           ],
           "sequential": [
            [
             0,
             "#0d0887"
            ],
            [
             0.1111111111111111,
             "#46039f"
            ],
            [
             0.2222222222222222,
             "#7201a8"
            ],
            [
             0.3333333333333333,
             "#9c179e"
            ],
            [
             0.4444444444444444,
             "#bd3786"
            ],
            [
             0.5555555555555556,
             "#d8576b"
            ],
            [
             0.6666666666666666,
             "#ed7953"
            ],
            [
             0.7777777777777778,
             "#fb9f3a"
            ],
            [
             0.8888888888888888,
             "#fdca26"
            ],
            [
             1,
             "#f0f921"
            ]
           ],
           "sequentialminus": [
            [
             0,
             "#0d0887"
            ],
            [
             0.1111111111111111,
             "#46039f"
            ],
            [
             0.2222222222222222,
             "#7201a8"
            ],
            [
             0.3333333333333333,
             "#9c179e"
            ],
            [
             0.4444444444444444,
             "#bd3786"
            ],
            [
             0.5555555555555556,
             "#d8576b"
            ],
            [
             0.6666666666666666,
             "#ed7953"
            ],
            [
             0.7777777777777778,
             "#fb9f3a"
            ],
            [
             0.8888888888888888,
             "#fdca26"
            ],
            [
             1,
             "#f0f921"
            ]
           ]
          },
          "colorway": [
           "#636efa",
           "#EF553B",
           "#00cc96",
           "#ab63fa",
           "#FFA15A",
           "#19d3f3",
           "#FF6692",
           "#B6E880",
           "#FF97FF",
           "#FECB52"
          ],
          "font": {
           "color": "#2a3f5f"
          },
          "geo": {
           "bgcolor": "white",
           "lakecolor": "white",
           "landcolor": "#E5ECF6",
           "showlakes": true,
           "showland": true,
           "subunitcolor": "white"
          },
          "hoverlabel": {
           "align": "left"
          },
          "hovermode": "closest",
          "mapbox": {
           "style": "light"
          },
          "paper_bgcolor": "white",
          "plot_bgcolor": "#E5ECF6",
          "polar": {
           "angularaxis": {
            "gridcolor": "white",
            "linecolor": "white",
            "ticks": ""
           },
           "bgcolor": "#E5ECF6",
           "radialaxis": {
            "gridcolor": "white",
            "linecolor": "white",
            "ticks": ""
           }
          },
          "scene": {
           "xaxis": {
            "backgroundcolor": "#E5ECF6",
            "gridcolor": "white",
            "gridwidth": 2,
            "linecolor": "white",
            "showbackground": true,
            "ticks": "",
            "zerolinecolor": "white"
           },
           "yaxis": {
            "backgroundcolor": "#E5ECF6",
            "gridcolor": "white",
            "gridwidth": 2,
            "linecolor": "white",
            "showbackground": true,
            "ticks": "",
            "zerolinecolor": "white"
           },
           "zaxis": {
            "backgroundcolor": "#E5ECF6",
            "gridcolor": "white",
            "gridwidth": 2,
            "linecolor": "white",
            "showbackground": true,
            "ticks": "",
            "zerolinecolor": "white"
           }
          },
          "shapedefaults": {
           "line": {
            "color": "#2a3f5f"
           }
          },
          "ternary": {
           "aaxis": {
            "gridcolor": "white",
            "linecolor": "white",
            "ticks": ""
           },
           "baxis": {
            "gridcolor": "white",
            "linecolor": "white",
            "ticks": ""
           },
           "bgcolor": "#E5ECF6",
           "caxis": {
            "gridcolor": "white",
            "linecolor": "white",
            "ticks": ""
           }
          },
          "title": {
           "x": 0.05
          },
          "xaxis": {
           "automargin": true,
           "gridcolor": "white",
           "linecolor": "white",
           "ticks": "",
           "title": {
            "standoff": 15
           },
           "zerolinecolor": "white",
           "zerolinewidth": 2
          },
          "yaxis": {
           "automargin": true,
           "gridcolor": "white",
           "linecolor": "white",
           "ticks": "",
           "title": {
            "standoff": 15
           },
           "zerolinecolor": "white",
           "zerolinewidth": 2
          }
         }
        },
        "title": {
         "font": {
          "color": "#212529",
          "size": 24
         },
         "text": "Faturamento da loja de departamentos por trimestre<br><sup size=1 style=\"color:#555655\">De 2016 a 2019</sup>"
        },
        "width": 1300,
        "xaxis": {
         "anchor": "y",
         "domain": [
          0,
          1
         ],
         "ticktext": [
          "T1<br>2016",
          "T2<br>2016",
          "T3<br>2016",
          "T4<br>2016",
          "T1<br>2017",
          "T2<br>2017",
          "T3<br>2017",
          "T4<br>2017",
          "T1<br>2018",
          "T2<br>2018",
          "T3<br>2018",
          "T4<br>2018",
          "T1<br>2019",
          "T2<br>2019",
          "T3<br>2019",
          "T4<br>2019"
         ],
         "tickvals": [
          "2016-03-31T00:00:00",
          "2016-06-30T00:00:00",
          "2016-09-30T00:00:00",
          "2016-12-31T00:00:00",
          "2017-03-31T00:00:00",
          "2017-06-30T00:00:00",
          "2017-09-30T00:00:00",
          "2017-12-31T00:00:00",
          "2018-03-31T00:00:00",
          "2018-06-30T00:00:00",
          "2018-09-30T00:00:00",
          "2018-12-31T00:00:00",
          "2019-03-31T00:00:00",
          "2019-06-30T00:00:00",
          "2019-09-30T00:00:00",
          "2019-12-31T00:00:00"
         ],
         "title": {
          "text": ""
         }
        },
        "yaxis": {
         "anchor": "x",
         "domain": [
          0,
          1
         ],
         "tickprefix": "R$ ",
         "ticksuffix": " mil",
         "title": {
          "text": ""
         }
        }
       }
      }
     },
     "metadata": {},
     "output_type": "display_data"
    }
   ],
   "source": [
    "def gerar_grafico_tri_dinamico():\n",
    "\n",
    "    fig = px.line(data_frame=df_regiao,\n",
    "                  x=df_regiao.index,\n",
    "                  y=df_regiao.columns,\n",
    "                  markers=True,\n",
    "                  labels={'regiao':'Região'},\n",
    "                  color_discrete_sequence=[AZUL2, VERMELHO1,AMARELO1,VERDE1, CINZA3])\n",
    "    \n",
    "    fig.update_layout(\n",
    "        width=1300, \n",
    "        height=600, \n",
    "        font_family = 'DejaVu Sans', \n",
    "        font_size=15, \n",
    "        font_color= CINZA2, \n",
    "        title_font_color= CINZA1, \n",
    "        title_font_size=24,\n",
    "        title_text='Faturamento da loja de departamentos por trimestre' + '<br><sup size=1 style=\"color:#555655\">De 2016 a 2019</sup>',\n",
    "        xaxis_title='', \n",
    "        yaxis_title='', \n",
    "        plot_bgcolor= CINZA5)\n",
    "    \n",
    "    fig.update_yaxes(tickprefix=\"R$ \", ticksuffix=\" mil\")\n",
    "\n",
    "    labels = ['T1<br>2016', 'T2<br>2016', 'T3<br>2016', 'T4<br>2016',\n",
    "           'T1<br>2017', 'T2<br>2017', 'T3<br>2017', 'T4<br>2017',\n",
    "           'T1<br>2018', 'T2<br>2018', 'T3<br>2018', 'T4<br>2018',\n",
    "           'T1<br>2019', 'T2<br>2019', 'T3<br>2019', 'T4<br>2019']\n",
    "    fig.update_xaxes(ticktext = labels, tickvals=df_regiao.index)\n",
    "    fig.update_traces(mode='markers+lines', hovertemplate ='<b>Período<b> %{x} br <b>Faturamento<b> %{y}')\n",
    "    fig.update_layout(hovermode='closest')    \n",
    "    fig.update_layout(hovermode='x')          \n",
    "    fig.update_layout(hovermode='x unified')  \n",
    "\n",
    "\n",
    "    return fig\n",
    "\n",
    "grafico = gerar_grafico_tri_dinamico()\n",
    "\n",
    "display(grafico)"
   ]
  }
 ],
 "metadata": {
  "kernelspec": {
   "display_name": "Python 3",
   "language": "python",
   "name": "python3"
  },
  "language_info": {
   "codemirror_mode": {
    "name": "ipython",
    "version": 3
   },
   "file_extension": ".py",
   "mimetype": "text/x-python",
   "name": "python",
   "nbconvert_exporter": "python",
   "pygments_lexer": "ipython3",
   "version": "3.12.0"
  }
 },
 "nbformat": 4,
 "nbformat_minor": 2
}
